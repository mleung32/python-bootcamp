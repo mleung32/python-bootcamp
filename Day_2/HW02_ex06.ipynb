{
 "cells": [
  {
   "cell_type": "markdown",
   "metadata": {},
   "source": [
    " # HW03_ex06\n",
    " \n",
    " 1. Please comment your code.\n",
    " 2. Please be thoughtful when naming your variables.\n",
    " 3. Please remove development code before submitting.\n",
    "\n",
    "---\n",
    " __Exercise 6.2__ <br>\n",
    "See 6.1: \"Write a compare function takes two values, x and y, and returns 1 if x > y, 0 if x == y, and -1 if x < y.\" \n",
    "\n",
    "When you submit only include your final function: compare"
   ]
  },
  {
   "cell_type": "code",
   "execution_count": 1,
   "metadata": {},
   "outputs": [],
   "source": [
    "def compare(x,y):\n",
    "    \"\"\"\n",
    "    Compares the values of two variables. Returns '1' if x is greater than y. Returns '0' if values are equal.\n",
    "    Returns '-1' if x is less than y.\n",
    "    \"\"\"\n",
    "    \n",
    "    if x == y:\n",
    "        return 0\n",
    "    elif x > y:\n",
    "        return 1\n",
    "    else:\n",
    "        return -1"
   ]
  },
  {
   "cell_type": "markdown",
   "metadata": {},
   "source": [
    "__Exercise 6.2__ <br>\n",
    "See 6.2: \"Use incremental development to write a function called hypotenuse\n",
    "that returns the length of the hypotenuse of a right triangle given the\n",
    "lengths of the other two legs as arguments.\" <br>\n",
    "\n",
    "When you submit only include your final function: hypotenuse. Do develop incrementally. Do not share in your final push your incremental work."
   ]
  },
  {
   "cell_type": "code",
   "execution_count": 2,
   "metadata": {},
   "outputs": [],
   "source": [
    "def hypotenuse(side1, side2):\n",
    "    \"\"\"\n",
    "    Returns the hypotenuse of a triangle when given the lengths of two shorter sides.\n",
    "    \"\"\"\n",
    "    from math import sqrt\n",
    "    \n",
    "    sum = (side1**2) + (side2**2)\n",
    "    hypotenuse = sum\n",
    "    hypotenuse = sqrt(sum)\n",
    "    \n",
    "    return hypotenuse"
   ]
  },
  {
   "cell_type": "markdown",
   "metadata": {},
   "source": [
    "__Exercise 6.4__  \n",
    "See 6.4: \"write a function is_between(x, y, z) that returns True if x ≤ y ≤ z or False otherwise\"\n",
    "\n",
    "When you submit only include your final function: is_between"
   ]
  },
  {
   "cell_type": "code",
   "execution_count": 3,
   "metadata": {},
   "outputs": [],
   "source": [
    "def is_between(x,y,z):\n",
    "    \"\"\"\n",
    "    Compares the values of three arguments. Returns TRUE if x ≤ y ≤ z. Returns FALSE if those conditions are not met. \n",
    "    \"\"\"\n",
    "    \n",
    "    if x <= y and y <= z:\n",
    "        return True\n",
    "    else:\n",
    "        return False"
   ]
  },
  {
   "cell_type": "markdown",
   "metadata": {},
   "source": [
    "__Exercise 3.2__  \n",
    "See \"Exercise 3, part 2\": \"Write a function called is_palindrome that takes a string argument and returns True if it is a palindrome and False otherwise. Remember that you can use the built-in function len to check the length of a string.\"\n",
    "\n",
    "When you submit only include your final function: is_palindrome"
   ]
  },
  {
   "cell_type": "code",
   "execution_count": 4,
   "metadata": {},
   "outputs": [],
   "source": [
    "def is_palindrome(word):\n",
    "    test_word = \"\"    \n",
    "    i = len(word) - 1\n",
    "    \n",
    "    while i > -1:\n",
    "        test_word += word[i]\n",
    "        i = i - 1\n",
    "    \n",
    "    if test_word == word:\n",
    "        return True\n",
    "    else:\n",
    "        return False"
   ]
  },
  {
   "cell_type": "markdown",
   "metadata": {},
   "source": [
    "__Exercise 4__  \n",
    "See \"Exercise 4\": \"A number, a, is a power of b if it is divisible by b and a/b is a power of b. Write a function called is_power that takes parameters a and b and returns True if a is a power of b. \n",
    "\n",
    "*Note: you will have to think about the base case.*\n",
    "\n",
    "*Note: Please use the provided definition and only plan for positive integers (whole numbers not including zero).*\n",
    "\n",
    "When you submit only include your final function: is_power"
   ]
  },
  {
   "cell_type": "code",
   "execution_count": 5,
   "metadata": {},
   "outputs": [],
   "source": [
    "def is_power(a, b):\n",
    "    quotient = a/b\n",
    "    if a % b == 0 and quotient % b == 0:\n",
    "        return True\n",
    "    else: \n",
    "        return False "
   ]
  },
  {
   "cell_type": "code",
   "execution_count": 8,
   "metadata": {},
   "outputs": [
    {
     "name": "stdout",
     "output_type": "stream",
     "text": [
      "0\n",
      "-1\n",
      "1\n",
      "1.4142135623730951\n",
      "5.0\n",
      "12.059850745345068\n",
      "True\n",
      "False\n",
      "False\n",
      "True\n",
      "False\n",
      "True\n",
      "True\n",
      "True\n",
      "False\n",
      "True\n",
      "True\n",
      "False\n"
     ]
    }
   ],
   "source": [
    "def main():\n",
    "# # Uncomment the below to test and before commiting:\n",
    "    # # Exercise 1\n",
    "    print(compare(1, 1))\n",
    "    print(compare(1, 2))\n",
    "    print(compare(2, 1))\n",
    "   \n",
    "    # # # Exercise 2\n",
    "    print(hypotenuse(1, 1))\n",
    "    print(hypotenuse(3, 4))\n",
    "    print(hypotenuse(1.2, 12))\n",
    "    \n",
    "    # # # Exercise 3\n",
    "    print(is_between(1, 2, 3))\n",
    "    print(is_between(2, 1, 3))\n",
    "    print(is_between(3, 1, 2))\n",
    "    print(is_between(1, 1, 2))\n",
    "    \n",
    "    # # # Exercise 6\n",
    "    print(is_palindrome(\"Python\"))\n",
    "    print(is_palindrome(\"evitative\"))\n",
    "    print(is_palindrome(\"sememes\"))\n",
    "    print(is_palindrome(\"oooooooooooo\"))\n",
    "    \n",
    "    # # # Exercise 7\n",
    "    print(is_power(28, 3))\n",
    "    print(is_power(27, 3))\n",
    "    print(is_power(248832, 12))\n",
    "    print(is_power(248844, 12))\n",
    "\n",
    "\n",
    "if __name__ == \"__main__\":\n",
    "    main()"
   ]
  }
 ],
 "metadata": {
  "kernelspec": {
   "display_name": "Python 3",
   "language": "python",
   "name": "python3"
  },
  "language_info": {
   "codemirror_mode": {
    "name": "ipython",
    "version": 3
   },
   "file_extension": ".py",
   "mimetype": "text/x-python",
   "name": "python",
   "nbconvert_exporter": "python",
   "pygments_lexer": "ipython3",
   "version": "3.7.4"
  }
 },
 "nbformat": 4,
 "nbformat_minor": 2
}
