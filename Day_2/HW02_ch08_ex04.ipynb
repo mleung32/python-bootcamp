{
 "cells": [
  {
   "cell_type": "markdown",
   "metadata": {},
   "source": [
    " # HW04_ch08_ex04\n",
    "\n",
    " The following functions are all intended to check whether a string contains\n",
    " __any lowercase letters__, but at least some of them are wrong. For each\n",
    " function, describe (is the docstring) what the function actually does.\n",
    " You can assume that the parameter is a string.\n",
    "\n",
    " Do not merely paste the output as a counterexample into the documentation\n",
    " string, explain what is wrong.\n"
   ]
  },
  {
   "cell_type": "code",
   "execution_count": 1,
   "metadata": {},
   "outputs": [],
   "source": [
    "def any_lowercase1(s):\n",
    "    \"\"\"Explain what is wrong, if anything, here.\n",
    "    The return statement leaves the function call once it is executed. The current logic \n",
    "    of the for-loop checks if the first character of the string is lower case; if so, it \n",
    "    returns 'True' and stops the loop. If not, it returns 'False' and also stops the loop. \n",
    "    \"\"\"\n",
    "    for c in s:\n",
    "        if c.islower():\n",
    "            return True\n",
    "        else:\n",
    "            return False"
   ]
  },
  {
   "cell_type": "code",
   "execution_count": 2,
   "metadata": {},
   "outputs": [],
   "source": [
    "def any_lowercase2(s):\n",
    "    \"\"\"Explain what is wrong, if anything, here.\n",
    "    Within the if-statement, the iteration variable 'c' has single quotes around it, \n",
    "    which converts it into a specific string. When the program runs, the islower() method is \n",
    "    being applied to the 'c' string instead of a letter-value from the string argument 's'.\n",
    "    \"\"\"\n",
    "    for c in s:\n",
    "        if 'c'.islower():\n",
    "            return 'True'\n",
    "        else:\n",
    "            return 'False'"
   ]
  },
  {
   "cell_type": "code",
   "execution_count": 3,
   "metadata": {},
   "outputs": [],
   "source": [
    "def any_lowercase3(s):\n",
    "    \"\"\"Explain what is wrong, if anything, here.\n",
    "    The boolean value in the variable 'flag' might change through each iteration of the loop. \n",
    "    The returned value, therefore, reflects only the results from the last letter of the string.\n",
    "    \"\"\"\n",
    "    for c in s:\n",
    "        flag = c.islower()\n",
    "    return flag"
   ]
  },
  {
   "cell_type": "code",
   "execution_count": 4,
   "metadata": {},
   "outputs": [],
   "source": [
    "def any_lowercase4(s):\n",
    "    \"\"\"Explain what is wrong, if anything, here.\n",
    "    Nothing is wrong. Function should return True if any letter is lowercase. \n",
    "    \"\"\"\n",
    "    flag = False\n",
    "    for c in s:\n",
    "        flag = flag or c.islower()\n",
    "    return flag"
   ]
  },
  {
   "cell_type": "code",
   "execution_count": 5,
   "metadata": {},
   "outputs": [],
   "source": [
    "def any_lowercase5(s):\n",
    "    \"\"\"Explain what is wrong, if anything, here.\n",
    "    Due to the return within the if-statment, the function call ends as soon as it encounters \n",
    "    a letter that is not lowercase. As a result, this function would not work on a string \n",
    "    that has lowercase letters succeeding uppercase ones. \n",
    "    \"\"\"\n",
    "    for c in s:\n",
    "        if not c.islower():\n",
    "            return False\n",
    "    return True"
   ]
  },
  {
   "cell_type": "code",
   "execution_count": 10,
   "metadata": {},
   "outputs": [
    {
     "name": "stdout",
     "output_type": "stream",
     "text": [
      "False\n",
      "True\n",
      "False\n",
      "False\n"
     ]
    }
   ],
   "source": [
    "def main():\n",
    "\n",
    "    # Remove print(\"Hello World!\") and for each function above that is wrong,\n",
    "    # call that function with a string for which the function returns\n",
    "    # incorrectly.\n",
    "    # ex.: any_lowercase_(\"thisstringmessesupthefunction\")\n",
    "    #print(\"Hello World!\")\n",
    "    \n",
    "    print(any_lowercase1('MAnDy'))\n",
    "    print(any_lowercase2('MANDY'))\n",
    "    print(any_lowercase3('mandY'))\n",
    "    print(any_lowercase5(\"Mandy\"))\n",
    "\n",
    "if __name__ == '__main__':\n",
    "    main()\n"
   ]
  }
 ],
 "metadata": {
  "kernelspec": {
   "display_name": "Python 3",
   "language": "python",
   "name": "python3"
  },
  "language_info": {
   "codemirror_mode": {
    "name": "ipython",
    "version": 3
   },
   "file_extension": ".py",
   "mimetype": "text/x-python",
   "name": "python",
   "nbconvert_exporter": "python",
   "pygments_lexer": "ipython3",
   "version": "3.7.4"
  }
 },
 "nbformat": 4,
 "nbformat_minor": 2
}
