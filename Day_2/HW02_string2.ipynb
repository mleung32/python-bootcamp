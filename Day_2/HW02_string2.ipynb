{
 "cells": [
  {
   "cell_type": "markdown",
   "metadata": {},
   "source": [
    " __D. verbing__  \n",
    " Given a string, if its length is at least 3, add 'ing' to its end. Unless it already ends in 'ing', in which case\n",
    " add 'ly' instead. If the string length is less than 3, leave it unchanged.\n",
    " Return the resulting string."
   ]
  },
  {
   "cell_type": "code",
   "execution_count": 1,
   "metadata": {},
   "outputs": [],
   "source": [
    "def verbing(s):\n",
    "    \"\"\"\n",
    "    If the length of a string is at least 3, adds 'ing' to the end. \n",
    "    If the string already ends with 'ing', adds 'ly' to the end.\n",
    "    If string length is less than 3, string is returned as the same.\n",
    "    \"\"\"\n",
    "    \n",
    "    if len(s) < 3:\n",
    "        return s\n",
    "    elif len(s) >= 3 and s.endswith('ing'):\n",
    "        s = s + 'ly'\n",
    "        return s\n",
    "    else:\n",
    "        return s + 'ing'"
   ]
  },
  {
   "cell_type": "markdown",
   "metadata": {},
   "source": [
    "__E. not_bad__  \n",
    "Given a string, find the first appearance of the substring 'not' and 'bad'. If the 'bad' follows the 'not', replace the whole 'not'...'bad' substring with 'good'. Return the resulting string. So 'This dinner is not that bad!' yields:\n",
    "'This dinner is good!"
   ]
  },
  {
   "cell_type": "code",
   "execution_count": 2,
   "metadata": {},
   "outputs": [],
   "source": [
    "def not_bad(s):\n",
    "    \"\"\"\n",
    "    Finds first appearance of substring 'not' and 'bad' in a given string. If 'bad' follows 'not', replaces\n",
    "    the whole 'not'...'bad' substring with 'good'\n",
    "    \"\"\"\n",
    "    \n",
    "    not_index = s.find('not')\n",
    "    bad_index = s.find('bad')\n",
    "    \n",
    "    if not_index < bad_index:\n",
    "        sub_string = s[not_index:bad_index + 3]\n",
    "        s = s.replace(sub_string, 'good')\n",
    "        return s\n",
    "    else:\n",
    "        return s"
   ]
  },
  {
   "cell_type": "markdown",
   "metadata": {},
   "source": [
    "__F. front_back__  \n",
    "Consider dividing a string into two halves. If the length is even, the front and back halves are the same length. If the length is odd, we'll say that the extra char goes in the front half. \n",
    "\n",
    "e.g. 'abcde', the front half is 'abc', the back half 'de'.\n",
    "\n",
    "Given 2 strings, a and b, return a string of the form a-front + b-front + a-back + b-back"
   ]
  },
  {
   "cell_type": "code",
   "execution_count": 3,
   "metadata": {},
   "outputs": [],
   "source": [
    "def front_back(s0, s1):\n",
    "    \"\"\"\n",
    "    Divides a string in half. If length is even, front and back half are equal in length. \n",
    "    If length is odd, extra character is added to the front half. \n",
    "    Given 2 strings, a and b, returns a string of the form a-front + b-front + a-back + b-back \n",
    "    \"\"\"\n",
    "    \n",
    "    splitter = find_half_index(s0)\n",
    "    s0_front = s0[:splitter]\n",
    "    s0_back = s0[splitter:]\n",
    "    \n",
    "    splitter = find_half_index(s1)\n",
    "    s1_front = s1[:splitter]\n",
    "    s1_back = s1[splitter:]\n",
    "    \n",
    "    return s0_front + s1_front + s0_back + s1_back\n",
    "    \n",
    "def find_half_index(string):\n",
    "    string_length = len(string)\n",
    "    \n",
    "    if string_length % 2 == 0:\n",
    "        half_index = int(len(string)/2)\n",
    "        return half_index \n",
    "    else:\n",
    "        half_index = int(len(string)/2) + 1\n",
    "        return half_index \n"
   ]
  },
  {
   "cell_type": "code",
   "execution_count": 4,
   "metadata": {},
   "outputs": [
    {
     "name": "stdout",
     "output_type": "stream",
     "text": [
      "verbing\n",
      " OK  got: 'hailing' expected: 'hailing'\n",
      " OK  got: 'swimingly' expected: 'swimingly'\n",
      " OK  got: 'do' expected: 'do'\n",
      "\n",
      "not_bad\n",
      " OK  got: 'This movie is good' expected: 'This movie is good'\n",
      " OK  got: 'This dinner is good!' expected: 'This dinner is good!'\n",
      " OK  got: 'This tea is not hot' expected: 'This tea is not hot'\n",
      " OK  got: \"It's bad yet not\" expected: \"It's bad yet not\"\n",
      "\n",
      "front_back\n",
      " OK  got: 'abxcdy' expected: 'abxcdy'\n",
      " OK  got: 'abcxydez' expected: 'abcxydez'\n",
      " OK  got: 'KitDontenut' expected: 'KitDontenut'\n"
     ]
    }
   ],
   "source": [
    "# Simple provided test() function used in main() to print\n",
    "# what each function returns vs. what it's supposed to return.\n",
    "def test(got, expected):\n",
    "    if got == expected:\n",
    "        prefix = ' OK '\n",
    "    else:\n",
    "        prefix = '  X '\n",
    "    print('{} got: {} expected: {}'.format(prefix, repr(got), repr(expected)))\n",
    "\n",
    "\n",
    "# main() calls the above functions with interesting inputs,\n",
    "# using the above test() to check if the result is correct or not.\n",
    "def main():\n",
    "    print('verbing')\n",
    "    test(verbing('hail'), 'hailing')\n",
    "    test(verbing('swiming'), 'swimingly')\n",
    "    test(verbing('do'), 'do')\n",
    "\n",
    "    print()\n",
    "    print('not_bad')\n",
    "    test(not_bad('This movie is not so bad'), 'This movie is good')\n",
    "    test(not_bad('This dinner is not that bad!'), 'This dinner is good!')\n",
    "    test(not_bad('This tea is not hot'), 'This tea is not hot')\n",
    "    test(not_bad(\"It's bad yet not\"), \"It's bad yet not\")\n",
    "    \n",
    "    print()\n",
    "    print('front_back')\n",
    "    test(front_back('abcd', 'xy'), 'abxcdy')\n",
    "    test(front_back('abcde', 'xyz'), 'abcxydez')\n",
    "    test(front_back('Kitten', 'Donut'), 'KitDontenut')\n",
    "\n",
    "if __name__ == '__main__':\n",
    "    main()"
   ]
  }
 ],
 "metadata": {
  "kernelspec": {
   "display_name": "Python 3",
   "language": "python",
   "name": "python3"
  },
  "language_info": {
   "codemirror_mode": {
    "name": "ipython",
    "version": 3
   },
   "file_extension": ".py",
   "mimetype": "text/x-python",
   "name": "python",
   "nbconvert_exporter": "python",
   "pygments_lexer": "ipython3",
   "version": "3.7.4"
  }
 },
 "nbformat": 4,
 "nbformat_minor": 2
}
