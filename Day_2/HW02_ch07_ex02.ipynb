{
 "cells": [
  {
   "cell_type": "markdown",
   "metadata": {},
   "source": [
    " # HW04_ch07_ex02\n",
    "\n",
    " The built-in function eval takes a string and evaluates it using the Python\n",
    " interpreter.\n",
    " For example:\n",
    "\n",
    "     >>> eval('1 + 2 * 3')\n",
    "     7\n",
    "     >>> import math\n",
    "     >>> eval('math.sqrt(5)')\n",
    "     2.2360679774997898\n",
    "     >>> eval('type(math.pi)')\n",
    "     <type 'float'>\n",
    "\n",
    " Write a function called eval_loop that iteratively prompts the user, takes\n",
    " the resulting input and evaluates it using eval, and prints the result.\n",
    "\n",
    " It should continue until the user enters 'done', and then return the value of\n",
    " the last expression it evaluated.\n",
    "\n",
    " Here is an opportunity to use things like `try`, `except`, and/or `finally`.\n",
    "\n",
    " Please write a docstring for every function you write.\n"
   ]
  },
  {
   "cell_type": "code",
   "execution_count": 4,
   "metadata": {},
   "outputs": [],
   "source": [
    "def eval_loop():\n",
    "    \"\"\"\n",
    "    Prompts user to enter a number and will return the square root of that number.\n",
    "    \"\"\"\n",
    "    from math import sqrt\n",
    "\n",
    "    print(\"If you enter a number, I will tell you its square root.\",\n",
    "            \"Enter 'done' at any time to quit.\\n\")\n",
    "\n",
    "    while True:\n",
    "        try: \n",
    "            number = input(\"Please enter a number: \")\n",
    "            if number == 'done':\n",
    "                break\n",
    "            else:\n",
    "                number = int(number)\n",
    "        except ValueError:\n",
    "                print(\"You must enter an integer.\\n\")\n",
    "        else:\n",
    "            sq_root = eval('sqrt(number)')\n",
    "            print(f\"The square root of {number} is: {sq_root}\")\n",
    "\n",
    "    print(f\"\\nThe square root of the last number evaluted is: {sq_root}\")      "
   ]
  },
  {
   "cell_type": "code",
   "execution_count": 5,
   "metadata": {},
   "outputs": [
    {
     "name": "stdout",
     "output_type": "stream",
     "text": [
      "If you enter a number, I will tell you its square root. Enter 'done' at any time to quit.\n",
      "\n",
      "Please enter a number: 100\n",
      "The square root of 100 is: 10.0\n",
      "Please enter a number: 64\n",
      "The square root of 64 is: 8.0\n",
      "Please enter a number: nine\n",
      "You must enter an integer.\n",
      "\n",
      "Please enter a number: 4\n",
      "The square root of 4 is: 2.0\n",
      "Please enter a number: done\n",
      "\n",
      "The square root of the last number evaluted is: 2.0\n"
     ]
    }
   ],
   "source": [
    "def main():\n",
    "    eval_loop()\n",
    "\n",
    "if __name__ == '__main__':\n",
    "    main()"
   ]
  }
 ],
 "metadata": {
  "kernelspec": {
   "display_name": "Python 3",
   "language": "python",
   "name": "python3"
  },
  "language_info": {
   "codemirror_mode": {
    "name": "ipython",
    "version": 3
   },
   "file_extension": ".py",
   "mimetype": "text/x-python",
   "name": "python",
   "nbconvert_exporter": "python",
   "pygments_lexer": "ipython3",
   "version": "3.7.4"
  }
 },
 "nbformat": 4,
 "nbformat_minor": 2
}
