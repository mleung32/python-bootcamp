{
 "cells": [
  {
   "cell_type": "markdown",
   "metadata": {},
   "source": [
    " # HW02_ch08_ex00\n",
    " See 8.7\n",
    "\n",
    "__(ML) Is the exercise prompt below an error? I looked at Exercise 8.7 in *Think Python*, and the instructions are slightly different. The text below looks like it's taken from Exercise 8.5, which is the same as HW02_ch08_ex05.__ \n",
    "\n",
    " >The following program counts the number of times the letter 'a' appears in a string:  \n",
    "`word = 'banana'  \n",
    "count = 0  \n",
    "for letter in word:  \n",
    "    if letter == 'a':  \n",
    "    count = count + 1  \n",
    "print(count)`  \n",
    " Encapsulate this code in a function named \"count\", and generalize it so that it accepts the string and the letter as        arguments. Please write a docstring for every function you write.\n"
   ]
  },
  {
   "cell_type": "markdown",
   "metadata": {},
   "source": [
    "Here's the prompt for Exercise 8.7 -- \n",
    ">There is a string method called count that is similar to the function in the previous exercise. Read the documentation of this method and write an invocation that counts the number of as in 'banana'. "
   ]
  },
  {
   "cell_type": "code",
   "execution_count": 1,
   "metadata": {},
   "outputs": [
    {
     "name": "stdout",
     "output_type": "stream",
     "text": [
      "3\n"
     ]
    }
   ],
   "source": [
    "word = 'banana'\n",
    "print(word.count('a'))\n"
   ]
  }
 ],
 "metadata": {
  "kernelspec": {
   "display_name": "Python 3",
   "language": "python",
   "name": "python3"
  },
  "language_info": {
   "codemirror_mode": {
    "name": "ipython",
    "version": 3
   },
   "file_extension": ".py",
   "mimetype": "text/x-python",
   "name": "python",
   "nbconvert_exporter": "python",
   "pygments_lexer": "ipython3",
   "version": "3.7.4"
  }
 },
 "nbformat": 4,
 "nbformat_minor": 2
}
