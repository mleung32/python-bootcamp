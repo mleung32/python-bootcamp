{
 "cells": [
  {
   "cell_type": "markdown",
   "metadata": {},
   "source": [
    "# D04_ex00\n",
    "\n",
    " Create a program that does the following:\n",
    "     - creates a random integer from 1 - 25\n",
    "     - asks the user to guess what the number is\n",
    "     - validates input is a number\n",
    "     - tells the user if they guess correctly\n",
    "         - if not: tells them too high/low\n",
    "     - only lets the user guess five times\n",
    "         - then ends the program"
   ]
  },
  {
   "cell_type": "code",
   "execution_count": 1,
   "metadata": {},
   "outputs": [],
   "source": [
    "def isInt(guess):\n",
    "    \"\"\"\n",
    "    Returns argument as integer if valid; \n",
    "    returns None if argument is not a number.\n",
    "    \"\"\"\n",
    "    try:\n",
    "        int_guess = int(guess)\n",
    "    except ValueError:\n",
    "        print(\"You must enter an integer.\\n\")\n",
    "        return None\n",
    "    else:\n",
    "        return int_guess"
   ]
  },
  {
   "cell_type": "code",
   "execution_count": 2,
   "metadata": {},
   "outputs": [],
   "source": [
    "def guess_number():\n",
    "    from random import randint\n",
    "    x = randint(1,26)\n",
    "    \n",
    "    i = 0\n",
    "    while i < 5:\n",
    "        guess = input(\"Guess a number: \")\n",
    "        int_guess = isInt(guess)\n",
    "        \n",
    "        if int_guess == None:\n",
    "            continue\n",
    "        elif int_guess == x:\n",
    "            print(\"You guessed correctly!\\n\")\n",
    "            break\n",
    "        elif int_guess > x:\n",
    "            print(\"Your guess is too high.\\n\")\n",
    "            i = i + 1\n",
    "        elif int_guess < x:\n",
    "            print(\"Your guess is too low.\\n\")\n",
    "            i = i + 1\n",
    "    \n",
    "    print(\"Thank you for playing!\")"
   ]
  },
  {
   "cell_type": "code",
   "execution_count": 3,
   "metadata": {},
   "outputs": [
    {
     "name": "stdout",
     "output_type": "stream",
     "text": [
      "Guess a number: 4\n",
      "Your guess is too low.\n",
      "\n",
      "Guess a number: 9\n",
      "Your guess is too low.\n",
      "\n",
      "Guess a number: fifteen\n",
      "You must enter an integer.\n",
      "\n",
      "Guess a number: 16\n",
      "Your guess is too low.\n",
      "\n",
      "Guess a number: 20\n",
      "Your guess is too low.\n",
      "\n",
      "Guess a number: 25\n",
      "Your guess is too high.\n",
      "\n",
      "Thank you for playing!\n"
     ]
    }
   ],
   "source": [
    "def main():\n",
    "    guess_number()\n",
    "    \n",
    "if __name__=='__main__':\n",
    "    main()"
   ]
  }
 ],
 "metadata": {
  "kernelspec": {
   "display_name": "Python 3",
   "language": "python",
   "name": "python3"
  },
  "language_info": {
   "codemirror_mode": {
    "name": "ipython",
    "version": 3
   },
   "file_extension": ".py",
   "mimetype": "text/x-python",
   "name": "python",
   "nbconvert_exporter": "python",
   "pygments_lexer": "ipython3",
   "version": "3.7.4"
  }
 },
 "nbformat": 4,
 "nbformat_minor": 2
}
