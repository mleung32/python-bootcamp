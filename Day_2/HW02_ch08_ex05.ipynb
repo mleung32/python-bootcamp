{
 "cells": [
  {
   "cell_type": "markdown",
   "metadata": {},
   "source": [
    " # HW02_ch08_ex05\n",
    " Structure this script entirely on your own. <br>\n",
    " See Chapter 8: Strings Exercise 5 for the task. <br>\n",
    " Please do provide function calls that test/demonstrate your function. <br>\n",
    " Please write a docstring for every function you write. \n"
   ]
  },
  {
   "cell_type": "code",
   "execution_count": 1,
   "metadata": {},
   "outputs": [],
   "source": [
    "def count(string, letter):\n",
    "    \"\"\"\n",
    "    Prints the number of times a given letter appears in a string.\n",
    "    \"\"\"\n",
    "    count = 0\n",
    "    \n",
    "    for i in string:\n",
    "        if i == letter:\n",
    "            count = count + 1\n",
    "    print(count)"
   ]
  },
  {
   "cell_type": "code",
   "execution_count": 2,
   "metadata": {},
   "outputs": [
    {
     "name": "stdout",
     "output_type": "stream",
     "text": [
      "4\n",
      "3\n",
      "2\n"
     ]
    }
   ],
   "source": [
    "def main():\n",
    "    count('mississippi', 's')\n",
    "    count('banana', 'a')\n",
    "    count('fulgurant', 'u')\n",
    "\n",
    "if __name__ == '__main__':\n",
    "    main()"
   ]
  }
 ],
 "metadata": {
  "kernelspec": {
   "display_name": "Python 3",
   "language": "python",
   "name": "python3"
  },
  "language_info": {
   "codemirror_mode": {
    "name": "ipython",
    "version": 3
   },
   "file_extension": ".py",
   "mimetype": "text/x-python",
   "name": "python",
   "nbconvert_exporter": "python",
   "pygments_lexer": "ipython3",
   "version": "3.7.4"
  }
 },
 "nbformat": 4,
 "nbformat_minor": 2
}
