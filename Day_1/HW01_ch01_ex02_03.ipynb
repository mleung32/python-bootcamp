{
 "cells": [
  {
   "cell_type": "markdown",
   "metadata": {},
   "source": [
    "# HW01_ch01_ex02_03\n",
    "Start the Python interpreter and use it as a calculator.\n",
    "Python's syntax for math operations is almost the same as standard mathematical notation. For example, the symbols\n",
    "+, - and / denote addition, subtraction and division, as you would expect. The symbol for multiplication is *.\n",
    "\n",
    "Insert Answers:<br>\n",
    "__Average Pace (minutes & seconds per mile):__ [6:52] <br>\n",
    "__Average Speed in MPH:__  [8.73]\n",
    "\n",
    "Insert calculations below (paste from the interpreter)."
   ]
  },
  {
   "cell_type": "markdown",
   "metadata": {},
   "source": [
    "If you run a 10 kilometer race in 42 minutes 42 seconds, what is your average pace (time per mile in minutes and seconds)? What is your average speed in miles per hour?\n"
   ]
  },
  {
   "cell_type": "markdown",
   "metadata": {},
   "source": [
    "Convert race length from km to miles: "
   ]
  },
  {
   "cell_type": "code",
   "execution_count": 1,
   "metadata": {},
   "outputs": [
    {
     "name": "stdout",
     "output_type": "stream",
     "text": [
      "6.2137119223733395\n"
     ]
    }
   ],
   "source": [
    "race_in_miles = 10/1.609344\n",
    "\n",
    "print (race_in_miles)"
   ]
  },
  {
   "cell_type": "markdown",
   "metadata": {},
   "source": [
    "Convert race time from minutes and seconds to decimal:"
   ]
  },
  {
   "cell_type": "code",
   "execution_count": 2,
   "metadata": {
    "scrolled": true
   },
   "outputs": [
    {
     "name": "stdout",
     "output_type": "stream",
     "text": [
      "42.7\n"
     ]
    }
   ],
   "source": [
    "race_time = 42 + (42/60)\n",
    "\n",
    "print(race_time)"
   ]
  },
  {
   "cell_type": "markdown",
   "metadata": {},
   "source": [
    "Calculate average pace: \n",
    "(1) Divide race time by race length in miles\n",
    "(2) Declare `partial_sec` variable to store conversion of seconds from decimal to integer."
   ]
  },
  {
   "cell_type": "code",
   "execution_count": 8,
   "metadata": {
    "scrolled": true
   },
   "outputs": [
    {
     "name": "stdout",
     "output_type": "stream",
     "text": [
      "Average pace in minutes and seconds: 6:52\n"
     ]
    }
   ],
   "source": [
    "avg_pace_min = race_time/race_in_miles\n",
    "partial_sec = (avg_pace_min % 1) * 60\n",
    "\n",
    "print(f\"Average pace in minutes and seconds: %d:%02d\" % (avg_pace_min,partial_sec))"
   ]
  },
  {
   "cell_type": "markdown",
   "metadata": {},
   "source": [
    "Calculate miles per hour by dividing 60 minutes by the average pace in minutes (`avg_pace_min`)."
   ]
  },
  {
   "cell_type": "code",
   "execution_count": 4,
   "metadata": {},
   "outputs": [
    {
     "name": "stdout",
     "output_type": "stream",
     "text": [
      "Average miles per hour: 8.73\n"
     ]
    }
   ],
   "source": [
    "mph = 60/avg_pace_min\n",
    "\n",
    "print(f\"Average miles per hour: {mph:.2f}\")"
   ]
  }
 ],
 "metadata": {
  "kernelspec": {
   "display_name": "Python 3",
   "language": "python",
   "name": "python3"
  },
  "language_info": {
   "codemirror_mode": {
    "name": "ipython",
    "version": 3
   },
   "file_extension": ".py",
   "mimetype": "text/x-python",
   "name": "python",
   "nbconvert_exporter": "python",
   "pygments_lexer": "ipython3",
   "version": "3.7.4"
  }
 },
 "nbformat": 4,
 "nbformat_minor": 2
}
