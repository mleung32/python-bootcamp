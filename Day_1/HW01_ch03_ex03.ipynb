{
 "cells": [
  {
   "cell_type": "markdown",
   "metadata": {},
   "source": [
    " # HW02_ch03_ex03\n",
    "\n",
    "This exercise can be done using only the statements and other features we have learned so far.\n",
    "\n",
    " (1) Write a function that draws a grid like the following:"
   ]
  },
  {
   "attachments": {
    "image.png": {
     "image/png": "[encoded data removed]"
    }
   },
   "cell_type": "markdown",
   "metadata": {},
   "source": [
    "![image.png](attachment:image.png)\n",
    "\n",
    "Hint: to print more than one value on a line, you can print a comma-separated sequence of values:\n",
    "  print('+', '-')\n",
    "\n",
    "By default, print advances to the next line, but you can override that behavior and put a space at the end, like     this:\n",
    "\n",
    " print('+', end=' ') <br>\n",
    " print('-')\n",
    "\n",
    "The output of these statements is '+ -'. A print statement with no argument ends the current line and goes to the next line."
   ]
  },
  {
   "cell_type": "code",
   "execution_count": 1,
   "metadata": {},
   "outputs": [],
   "source": [
    "def two_by_two():\n",
    "    \"\"\"\n",
    "    Draws a grid composed of four smaller squares.\n",
    "    \"\"\"   \n",
    "    #Build exterior rows\n",
    "    plus = '+ '\n",
    "    dash = '- ' * 4\n",
    "    ex_row = (f\"{plus}{dash}\" * 2) + (f\"{plus}\")\n",
    "\n",
    "    # Find character length for half the row. Use this to align columns.\n",
    "    # half_row = f\"{plus}{dash}\"\n",
    "    # half_row_length = len(half_row)\n",
    "    # print(half_row_length)\n",
    "\n",
    "    print(ex_row)\n",
    "\n",
    "    #build interior rows \n",
    "    pipe = '|'\n",
    "    for i in range (4):\n",
    "        print(pipe, end='')\n",
    "        print(f\"{pipe:>10}\", end='')\n",
    "        print(f\"{pipe:>10}\")\n",
    "\n",
    "    print(ex_row)\n",
    "\n",
    "    #build interior rows \n",
    "    for i in range (4):\n",
    "        print(pipe, end='')\n",
    "        print(f\"{pipe:>10}\", end='')\n",
    "        print(f\"{pipe:>10}\")\n",
    "\n",
    "    print(ex_row)"
   ]
  },
  {
   "cell_type": "markdown",
   "metadata": {},
   "source": [
    " (2) Write a function that draws a similar grid with four rows and four columns."
   ]
  },
  {
   "cell_type": "code",
   "execution_count": 2,
   "metadata": {},
   "outputs": [],
   "source": [
    "def four_by_four():\n",
    "    \"\"\"\n",
    "    Draws a grid composed of eight squares.\n",
    "    \"\"\"\n",
    "     #Build exterior rows\n",
    "    plus = '+ '\n",
    "    dash = '- ' * 4\n",
    "    ex_row = (f\"{plus}{dash}\" * 4) + (f\"{plus}\")\n",
    "\n",
    "    # Find character length for half the row. Use this to align columns.\n",
    "    # half_row = f\"{plus}{dash}\"\n",
    "    # half_row_length = len(half_row)\n",
    "    # print(half_row_length)\n",
    "\n",
    "    print(ex_row)\n",
    "\n",
    "    #build interior rows \n",
    "    pipe = '|'\n",
    "    for i in range (4):\n",
    "        print(pipe, end='')\n",
    "        print(f\"{pipe:>10}\", end='')\n",
    "        print(f\"{pipe:>10}\", end='')\n",
    "        print(f\"{pipe:>10}\", end='')\n",
    "        print(f\"{pipe:>10}\")\n",
    "\n",
    "    print(ex_row)\n",
    "\n",
    "    #build interior rows \n",
    "    for i in range (4):\n",
    "        print(pipe, end='')\n",
    "        print(f\"{pipe:>10}\", end='')\n",
    "        print(f\"{pipe:>10}\", end='')\n",
    "        print(f\"{pipe:>10}\", end='')\n",
    "        print(f\"{pipe:>10}\")\n",
    "\n",
    "    print(ex_row) "
   ]
  },
  {
   "cell_type": "code",
   "execution_count": 3,
   "metadata": {},
   "outputs": [
    {
     "name": "stdout",
     "output_type": "stream",
     "text": [
      "+ - - - - + - - - - + \n",
      "|         |         |\n",
      "|         |         |\n",
      "|         |         |\n",
      "|         |         |\n",
      "+ - - - - + - - - - + \n",
      "|         |         |\n",
      "|         |         |\n",
      "|         |         |\n",
      "|         |         |\n",
      "+ - - - - + - - - - + \n",
      "+ - - - - + - - - - + - - - - + - - - - + \n",
      "|         |         |         |         |\n",
      "|         |         |         |         |\n",
      "|         |         |         |         |\n",
      "|         |         |         |         |\n",
      "+ - - - - + - - - - + - - - - + - - - - + \n",
      "|         |         |         |         |\n",
      "|         |         |         |         |\n",
      "|         |         |         |         |\n",
      "|         |         |         |         |\n",
      "+ - - - - + - - - - + - - - - + - - - - + \n"
     ]
    }
   ],
   "source": [
    "def main():\n",
    "    \"\"\"Call your functions within this function.\n",
    "    When complete have two function calls in this function:\n",
    "    two_by_two()\n",
    "    four_by_four()\n",
    "    \"\"\"\n",
    "    two_by_two()\n",
    "    four_by_four()\n",
    "\n",
    "if __name__ == \"__main__\":\n",
    "    main()"
   ]
  }
 ],
 "metadata": {
  "kernelspec": {
   "display_name": "Python 3",
   "language": "python",
   "name": "python3"
  },
  "language_info": {
   "codemirror_mode": {
    "name": "ipython",
    "version": 3
   },
   "file_extension": ".py",
   "mimetype": "text/x-python",
   "name": "python",
   "nbconvert_exporter": "python",
   "pygments_lexer": "ipython3",
   "version": "3.7.4"
  }
 },
 "nbformat": 4,
 "nbformat_minor": 2
}
