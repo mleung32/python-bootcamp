{
 "cells": [
  {
   "cell_type": "markdown",
   "metadata": {},
   "source": [
    " # HW02_ch05_ex03\n",
    "\n",
    " If you are given three sticks, you may or may not be able to arrange them in\n",
    " a triangle. For example, if one of the sticks is 12 inches long and the other\n",
    " two are one inch long, it is clear that you will not be able to get the short\n",
    " sticks to meet in the middle. For any three lengths, there is a simple test\n",
    " to see if it is possible to form a triangle:\n",
    "\n",
    "   If any of the three lengths is greater than the sum of the other two, then\n",
    "   you cannot form a triangle. Otherwise, you can. (If the sum of two lengths\n",
    "   equals the third, they form what is called a \"degenerate\" triangle.)\n",
    "\n",
    " (1) Write a function named `is_triangle` that takes three integers as\n",
    " arguments, and that prints either \"Yes\" or \"No,\" depending on whether you can\n",
    " or cannot form a triangle from sticks with the given lengths.\n"
   ]
  },
  {
   "cell_type": "code",
   "execution_count": 1,
   "metadata": {},
   "outputs": [],
   "source": [
    "def is_triangle(x,y,z):\n",
    "    if x + y < z:\n",
    "        print(\"No\")\n",
    "    elif x + z < y:\n",
    "        print(\"No\")\n",
    "    elif y + z < x:\n",
    "        print (\"No\")\n",
    "    else: \n",
    "        print(\"Yes\")"
   ]
  },
  {
   "cell_type": "markdown",
   "metadata": {},
   "source": [
    " (2) Write a function that prompts the user to input three stick lengths,\n",
    " converts them to integers, and uses `is_triangle` to check whether sticks\n",
    " with the given lengths can form a triangle."
   ]
  },
  {
   "cell_type": "code",
   "execution_count": 2,
   "metadata": {},
   "outputs": [],
   "source": [
    "def isInt(value): \n",
    "    \"\"\"\n",
    "    Validates whether or not user input is an integer. \n",
    "    Returns an integer value if input is a number; else returns None.\n",
    "    \"\"\"\n",
    "    try:\n",
    "        value = int(value)\n",
    "    except ValueError:\n",
    "        print(f\"{value} is not an integer. Please enter an integer: \")\n",
    "        return None\n",
    "    else:\n",
    "        return value"
   ]
  },
  {
   "cell_type": "code",
   "execution_count": 3,
   "metadata": {},
   "outputs": [],
   "source": [
    "def check_stick_lengths():\n",
    "    print(\"\\nLet's check if three sticks can form a triangle.\\n\")\n",
    "    \n",
    "    sides = []\n",
    "    \n",
    "    while len(sides) < 3:\n",
    "        side_length = input(\"Enter the length of a side: \")\n",
    "        side_length = isInt(side_length)\n",
    "        \n",
    "        if side_length:\n",
    "            sides.append(side_length)\n",
    "    \n",
    "    is_triangle(sides[0], sides[1], sides[2])"
   ]
  },
  {
   "cell_type": "code",
   "execution_count": 4,
   "metadata": {},
   "outputs": [
    {
     "name": "stdout",
     "output_type": "stream",
     "text": [
      "Yes\n",
      "No\n",
      "No\n",
      "No\n",
      "\n",
      "Let's check if three sticks can form a triangle.\n",
      "\n",
      "Enter the length of a side: 1\n",
      "Enter the length of a side: 1\n",
      "Enter the length of a side: 12\n",
      "No\n"
     ]
    }
   ],
   "source": [
    "def main():\n",
    "    \"\"\"Call your functions within this function.\n",
    "    When complete have four function calls in this function\n",
    "    for is_triangle (we want to test the edge cases!):\n",
    "    is_triangle(1,2,3)\n",
    "    is_triangle(1,2,4)\n",
    "    is_triangle(1,5,3)\n",
    "    is_triangle(6,2,3)\n",
    "    and a function call for\n",
    "    check_stick_lengths()\n",
    "    \"\"\"\n",
    "    #print(\"Hello World!\")\n",
    "\n",
    "    is_triangle(1,2,3)\n",
    "    is_triangle(1,2,4)\n",
    "    is_triangle(1,5,3)\n",
    "    is_triangle(6,2,3)\n",
    "    \n",
    "    check_stick_lengths()\n",
    "\n",
    "if __name__ == \"__main__\":\n",
    "    main()\n"
   ]
  }
 ],
 "metadata": {
  "kernelspec": {
   "display_name": "Python 3",
   "language": "python",
   "name": "python3"
  },
  "language_info": {
   "codemirror_mode": {
    "name": "ipython",
    "version": 3
   },
   "file_extension": ".py",
   "mimetype": "text/x-python",
   "name": "python",
   "nbconvert_exporter": "python",
   "pygments_lexer": "ipython3",
   "version": "3.7.4"
  }
 },
 "nbformat": 4,
 "nbformat_minor": 2
}
