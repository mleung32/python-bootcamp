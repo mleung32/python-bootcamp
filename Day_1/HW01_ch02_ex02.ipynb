{
 "cells": [
  {
   "cell_type": "markdown",
   "metadata": {},
   "source": [
    "# HW01_ch02_ex02\n",
    "\n",
    "Practice using the Python interpreter as a calculator.\n",
    "Paste answer and calculations below."
   ]
  },
  {
   "cell_type": "code",
   "execution_count": 1,
   "metadata": {},
   "outputs": [],
   "source": [
    "from math import pi"
   ]
  },
  {
   "cell_type": "markdown",
   "metadata": {},
   "source": [
    "1. The volume of a sphere with radius r is 4/3 π r^3. What is the volume of a sphere with radius 5? [523.60]"
   ]
  },
  {
   "cell_type": "code",
   "execution_count": 2,
   "metadata": {},
   "outputs": [
    {
     "name": "stdout",
     "output_type": "stream",
     "text": [
      "523.5987755982989\n"
     ]
    }
   ],
   "source": [
    "r = 5\n",
    "volume = 4/3 * pi * (r**3)\n",
    "\n",
    "print(volume)"
   ]
  },
  {
   "cell_type": "markdown",
   "metadata": {},
   "source": [
    "2. Suppose the cover price of a book is \\\\$24.95, but bookstores get a 40\\% discount. Shipping costs \\\\$3 for the first copy and 75 cents for each additional copy. What is the total wholesale cost for 60 copies? <br>\n",
    "\n",
    "    __total wholesale cost:__ $945.45"
   ]
  },
  {
   "cell_type": "code",
   "execution_count": 6,
   "metadata": {},
   "outputs": [
    {
     "name": "stdout",
     "output_type": "stream",
     "text": [
      "The wholesale cost is $945.45\n"
     ]
    }
   ],
   "source": [
    "order_total = 60 * 24.95\n",
    "total_wDiscount = order_total * .60\n",
    "shipping_cost = (.75 * 59) + 3\n",
    "wholesale_cost = (total_wDiscount) + shipping_cost\n",
    "\n",
    "print(f\"The wholesale cost is ${wholesale_cost:.2f}\")"
   ]
  },
  {
   "cell_type": "markdown",
   "metadata": {},
   "source": [
    "3. If I leave my house at 6:52 am and run 1 mile at an easy pace (8:15 per mile), then 3 miles at tempo (7:12 per mile) and 1 mile at easy pace again, what time do I get home for breakfast? \n",
    "\n",
    " __time:__ 7:30:06 am"
   ]
  },
  {
   "cell_type": "code",
   "execution_count": 4,
   "metadata": {},
   "outputs": [],
   "source": [
    "from datetime import datetime,timedelta"
   ]
  },
  {
   "cell_type": "code",
   "execution_count": 5,
   "metadata": {
    "scrolled": false
   },
   "outputs": [
    {
     "name": "stdout",
     "output_type": "stream",
     "text": [
      "End time: 07:30:06\n"
     ]
    }
   ],
   "source": [
    "starting_time = datetime(1, 1, 1, 6, 52)\n",
    "\n",
    "first_lap = starting_time + timedelta(minutes = 8, seconds = 15)\n",
    "second_lap = first_lap + timedelta(minutes = 3 * 7, seconds = 3 * 12)\n",
    "third_lap = second_lap + timedelta(minutes = 8, seconds = 15)\n",
    "\n",
    "print(f\"End time: {third_lap:%H:%M:%S}\")"
   ]
  }
 ],
 "metadata": {
  "kernelspec": {
   "display_name": "Python 3",
   "language": "python",
   "name": "python3"
  },
  "language_info": {
   "codemirror_mode": {
    "name": "ipython",
    "version": 3
   },
   "file_extension": ".py",
   "mimetype": "text/x-python",
   "name": "python",
   "nbconvert_exporter": "python",
   "pygments_lexer": "ipython3",
   "version": "3.7.4"
  }
 },
 "nbformat": 4,
 "nbformat_minor": 2
}
