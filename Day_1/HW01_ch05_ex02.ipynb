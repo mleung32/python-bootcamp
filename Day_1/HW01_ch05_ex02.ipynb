{
 "cells": [
  {
   "cell_type": "markdown",
   "metadata": {},
   "source": [
    "# HW02_ch05_ex02\n",
    "\n",
    "Fermat's Last Theorem says that there are no positive integers a, b, and c such that a^n + b^n = c^n for any values of n greater than 2.\n",
    "\n",
    "(1) Write a function named `check_fermat` that takes four parameters-a, b, c and n-and that checks to see if Fermat's theorem holds. If n is greater than 2 and it turns out to be true that a^n + b^n = c^n the program should print, \"Holy smokes, Fermat was wrong!\" Otherwise the program should print, \"No, that doesn't work.\"\n",
    "\n",
    "\n"
   ]
  },
  {
   "cell_type": "code",
   "execution_count": 1,
   "metadata": {},
   "outputs": [],
   "source": [
    "def check_fermat(a,b,c,n):\n",
    "    sum = a**n + b**n\n",
    "    c_exp = c**n\n",
    "    \n",
    "    if n > 2 and sum == c_exp:\n",
    "        print('Holy smokes, Fermat was wrong!')\n",
    "    elif n > 2 and sum != c_exp:\n",
    "        print(\"No, that doesn't work.\")"
   ]
  },
  {
   "cell_type": "code",
   "execution_count": 2,
   "metadata": {},
   "outputs": [],
   "source": [
    "check_fermat(2,3,5,2)"
   ]
  },
  {
   "cell_type": "markdown",
   "metadata": {},
   "source": [
    "(2) Write a function named `check_fermat_ints` that prompts the user to input values for a, b, c and n, converts them to integers, and uses check_fermat to check whether they violate Fermat's theorem."
   ]
  },
  {
   "cell_type": "code",
   "execution_count": 3,
   "metadata": {},
   "outputs": [],
   "source": [
    "def isInt(value): \n",
    "    \"\"\"\n",
    "    Validates whether or not user input is an integer. \n",
    "    Returns an integer value if input is a number; else returns None.\n",
    "    \"\"\"\n",
    "    try:\n",
    "        value = int(value)\n",
    "    except ValueError:\n",
    "        print(f\"{value} is not an integer. Please enter an integer: \")\n",
    "        return None\n",
    "    else:\n",
    "        return value"
   ]
  },
  {
   "cell_type": "code",
   "execution_count": 4,
   "metadata": {},
   "outputs": [],
   "source": [
    "def check_fermat_ints():\n",
    "    print(\"We are going to check Fermat's Last Theorem.\")\n",
    "    \n",
    "    num_d = {}\n",
    "    \n",
    "    while len(num_d) < 3:\n",
    "        x = input(\"Enter a number: \")\n",
    "        x = isInt(x)\n",
    "        \n",
    "        if x:\n",
    "            num_d[len(num_d)] = x\n",
    "    \n",
    "    print(\"\\nNow we need an exponent for all previously entered numbers.\")\n",
    "    while len(num_d) < 4:\n",
    "        exponent = input(\"Please enter a number greater than 2: \")\n",
    "        exponent = isInt(exponent)\n",
    "        \n",
    "        if exponent and exponent > 2:\n",
    "            num_d['exponent'] = exponent\n",
    "        elif exponent and exponent <= 2:\n",
    "            continue\n",
    "    \n",
    "    print(\"\")\n",
    "    check_fermat(num_d[0], num_d[1], num_d[2],num_d['exponent'])"
   ]
  },
  {
   "cell_type": "code",
   "execution_count": 5,
   "metadata": {},
   "outputs": [
    {
     "name": "stdout",
     "output_type": "stream",
     "text": [
      "We are going to check Fermat's Last Theorem.\n",
      "Enter a number: 3\n",
      "Enter a number: 4\n",
      "Enter a number: 5\n",
      "\n",
      "Now we need an exponent for all previously entered numbers.\n",
      "Please enter a number greater than 2: 3\n",
      "\n",
      "No, that doesn't work.\n"
     ]
    }
   ],
   "source": [
    "check_fermat_ints()"
   ]
  }
 ],
 "metadata": {
  "kernelspec": {
   "display_name": "Python 3",
   "language": "python",
   "name": "python3"
  },
  "language_info": {
   "codemirror_mode": {
    "name": "ipython",
    "version": 3
   },
   "file_extension": ".py",
   "mimetype": "text/x-python",
   "name": "python",
   "nbconvert_exporter": "python",
   "pygments_lexer": "ipython3",
   "version": "3.7.4"
  }
 },
 "nbformat": 4,
 "nbformat_minor": 2
}
